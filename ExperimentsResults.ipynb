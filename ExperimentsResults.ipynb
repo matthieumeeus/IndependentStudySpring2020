{
 "cells": [
  {
   "cell_type": "markdown",
   "metadata": {},
   "source": [
    "### Results of experiment - May 4\n",
    "\n",
    "The purpose is to evaluate the performance of a one layer 'Fourier' neural network. More specifically, we want to test how one layer of only sine with bias compares to the use of a combination of sine and cosine activation without bias. Both network have been trained for 5,000 epochs and with 32 and 64 nodes resepecively. Note that because of the inclusion of bias in the latter network makes sure both networks have the same number of parameters. This has been doen for 40 times and for each training, the losses corresponding to the last 10% of the epochs have been recorded. The purpose now is to find out is there is a significant difference in performance. "
   ]
  },
  {
   "cell_type": "code",
   "execution_count": 1,
   "metadata": {},
   "outputs": [],
   "source": [
    "import numpy as np\n",
    "import matplotlib.pyplot as plt\n",
    "import seaborn as sns"
   ]
  },
  {
   "cell_type": "code",
   "execution_count": 20,
   "metadata": {
    "scrolled": false
   },
   "outputs": [
    {
     "name": "stdout",
     "output_type": "stream",
     "text": [
      "0\n",
      "For sine only: Mean = 0.0006440713002521079 - Min = 0.000182087387656793 - Max = 0.0016768435016274452\n",
      "For sine & cosine: Mean = 0.00043390122419805264 - Min = 0.00014377254410646856 - Max = 0.001180164748802781\n",
      "Sin Cos was better by 32.629999999999995%\n",
      "---------------------------------------------\n",
      "For sine only: Mean = 0.0005280940790544264 - Min = 0.0001859397889347747 - Max = 0.0013467445969581604\n",
      "For sine & cosine: Mean = 0.015411938907578587 - Min = 0.012273676693439484 - Max = 0.02014220505952835\n",
      "Sine was better by 96.57%\n",
      "---------------------------------------------\n",
      "1\n",
      "For sine only: Mean = 0.0005099309672368691 - Min = 0.00017403792298864573 - Max = 0.0013366275234147906\n",
      "For sine & cosine: Mean = 0.00043352906859945504 - Min = 0.00012328515003900975 - Max = 0.0013945287792012095\n",
      "Sin Cos was better by 14.979999999999999%\n",
      "---------------------------------------------\n",
      "For sine only: Mean = 0.0006495995940640569 - Min = 0.0002615680277813226 - Max = 0.00145277613773942\n",
      "For sine & cosine: Mean = 0.0007072920646751299 - Min = 0.00019369156507309526 - Max = 0.0022946319077163935\n",
      "Sine was better by 8.16%\n",
      "---------------------------------------------\n",
      "2\n",
      "For sine only: Mean = 0.0006055134116322733 - Min = 0.00020212112576700747 - Max = 0.0014238214353099465\n",
      "For sine & cosine: Mean = 0.0009461208170396276 - Min = 0.00038127947482280433 - Max = 0.002076821867376566\n",
      "Sine was better by 36.0%\n",
      "---------------------------------------------\n",
      "For sine only: Mean = 0.0006178858134953771 - Min = 0.00022844306658953428 - Max = 0.0013819793239235878\n",
      "For sine & cosine: Mean = 0.0004535490387061145 - Min = 0.0001474415767006576 - Max = 0.001048652920871973\n",
      "Sin Cos was better by 26.6%\n",
      "---------------------------------------------\n",
      "3\n",
      "For sine only: Mean = 0.0005998671556881163 - Min = 0.0001958232169272378 - Max = 0.0013652453199028969\n",
      "For sine & cosine: Mean = 0.0005393724518071394 - Min = 0.0001906811521621421 - Max = 0.001545061357319355\n",
      "Sin Cos was better by 10.08%\n",
      "---------------------------------------------\n",
      "For sine only: Mean = 0.0006009966738056391 - Min = 0.00023774144938215613 - Max = 0.0013604691484943032\n",
      "For sine & cosine: Mean = 0.00045932981482474134 - Min = 0.00014892044418957084 - Max = 0.0010805361671373248\n",
      "Sin Cos was better by 23.57%\n",
      "---------------------------------------------\n",
      "4\n",
      "For sine only: Mean = 0.0006232593528402503 - Min = 0.00022103502124082297 - Max = 0.0015691827284172177\n",
      "For sine & cosine: Mean = 0.015305739348754286 - Min = 0.012055975385010242 - Max = 0.019322127103805542\n",
      "Sine was better by 95.93%\n",
      "---------------------------------------------\n",
      "For sine only: Mean = 0.0006347380792140029 - Min = 0.00026486211572773755 - Max = 0.0013335795374587178\n",
      "For sine & cosine: Mean = 0.00039655262873566243 - Min = 0.00012014476669719443 - Max = 0.0011540181003510952\n",
      "Sin Cos was better by 37.519999999999996%\n",
      "---------------------------------------------\n",
      "5\n",
      "For sine only: Mean = 0.025499395202845335 - Min = 0.02028616890311241 - Max = 0.03312985971570015\n",
      "For sine & cosine: Mean = 0.0004602422364114318 - Min = 0.0001598375238245353 - Max = 0.001693608588539064\n",
      "Sin Cos was better by 98.2%\n",
      "---------------------------------------------\n",
      "For sine only: Mean = 0.0005089820311404764 - Min = 0.00017872601165436208 - Max = 0.0014401162043213844\n",
      "For sine & cosine: Mean = 0.000400955991804949 - Min = 0.00012131028779549524 - Max = 0.0010889405384659767\n",
      "Sin Cos was better by 21.22%\n",
      "---------------------------------------------\n",
      "6\n",
      "For sine only: Mean = 0.0006429186723835301 - Min = 0.00020006777776870877 - Max = 0.0016896195011213422\n",
      "For sine & cosine: Mean = 0.0167399025503546 - Min = 0.013291405513882637 - Max = 0.02161881886422634\n",
      "Sine was better by 96.16%\n",
      "---------------------------------------------\n",
      "For sine only: Mean = 0.0006442825302656275 - Min = 0.00023926210997160524 - Max = 0.001325302291661501\n",
      "For sine & cosine: Mean = 0.015988085370510816 - Min = 0.012489063665270805 - Max = 0.02033144235610962\n",
      "Sine was better by 95.97%\n",
      "---------------------------------------------\n",
      "7\n",
      "For sine only: Mean = 0.0006438153397175483 - Min = 0.00020391543512232602 - Max = 0.0014129732735455036\n",
      "For sine & cosine: Mean = 0.000565503665653523 - Min = 0.0002141344448318705 - Max = 0.0015576654113829136\n",
      "Sin Cos was better by 12.16%\n",
      "---------------------------------------------\n",
      "For sine only: Mean = 0.0006004224542703014 - Min = 0.00021897751139476895 - Max = 0.001519812853075564\n",
      "For sine & cosine: Mean = 0.0004916126195457764 - Min = 0.0001531696761958301 - Max = 0.0014023034600540996\n",
      "Sin Cos was better by 18.12%\n",
      "---------------------------------------------\n",
      "8\n",
      "For sine only: Mean = 0.0006110521724913269 - Min = 0.00019935527234338224 - Max = 0.0017254736740142107\n",
      "For sine & cosine: Mean = 0.0006363798362144735 - Min = 0.0002225000789621845 - Max = 0.0013000407489016652\n",
      "Sine was better by 3.9800000000000004%\n",
      "---------------------------------------------\n",
      "For sine only: Mean = 0.000644904849701561 - Min = 0.00022524426458403468 - Max = 0.0013684346340596676\n",
      "For sine & cosine: Mean = 0.0004547862677136436 - Min = 0.0001600663672434166 - Max = 0.0015057838754728436\n",
      "Sin Cos was better by 29.48%\n",
      "---------------------------------------------\n",
      "9\n",
      "For sine only: Mean = 0.0005162730960582848 - Min = 0.00016229257744271308 - Max = 0.001130871707573533\n",
      "For sine & cosine: Mean = 0.01685538358055055 - Min = 0.01249849982559681 - Max = 0.021220767870545387\n",
      "Sine was better by 96.94%\n",
      "---------------------------------------------\n",
      "For sine only: Mean = 0.000643241706682602 - Min = 0.00022823835024610162 - Max = 0.0014224511105567217\n",
      "For sine & cosine: Mean = 0.0007619647768442519 - Min = 0.00029577972600236535 - Max = 0.0015944000333547592\n",
      "Sine was better by 15.58%\n",
      "---------------------------------------------\n",
      "10\n",
      "For sine only: Mean = 0.026098102249205113 - Min = 0.02103780396282673 - Max = 0.03267271816730499\n",
      "For sine & cosine: Mean = 0.00038443031955102925 - Min = 0.00011262720363447443 - Max = 0.001368798199109733\n",
      "Sin Cos was better by 98.53%\n",
      "---------------------------------------------\n",
      "For sine only: Mean = 0.0006097092511190567 - Min = 0.00021734116307925433 - Max = 0.0016391911776736379\n",
      "For sine & cosine: Mean = 0.01623970641940832 - Min = 0.012643707916140556 - Max = 0.02201274037361145\n",
      "Sine was better by 96.25%\n",
      "---------------------------------------------\n",
      "11\n",
      "For sine only: Mean = 0.0005105518203927204 - Min = 0.00016255681111942977 - Max = 0.0011960766278207302\n",
      "For sine & cosine: Mean = 0.000622001502342755 - Min = 0.00018307728169020265 - Max = 0.0015950779197737575\n",
      "Sine was better by 17.919999999999998%\n",
      "---------------------------------------------\n",
      "For sine only: Mean = 0.0006323481780709699 - Min = 0.0002444741257932037 - Max = 0.001497546094469726\n",
      "For sine & cosine: Mean = 0.01671492572315037 - Min = 0.012527194805443287 - Max = 0.021398331969976425\n",
      "Sine was better by 96.22%\n",
      "---------------------------------------------\n",
      "12\n",
      "For sine only: Mean = 0.0006073639437090605 - Min = 0.0002346606634091586 - Max = 0.0015099296579137444\n",
      "For sine & cosine: Mean = 0.00039988299648393877 - Min = 0.00012575699656736106 - Max = 0.0010529597057029605\n",
      "Sin Cos was better by 34.160000000000004%\n",
      "---------------------------------------------\n",
      "For sine only: Mean = 0.0006266667444142513 - Min = 0.00021714520698878914 - Max = 0.0013647511368617415\n",
      "For sine & cosine: Mean = 0.0004597971568873618 - Min = 0.0001750466472003609 - Max = 0.0009829145856201649\n",
      "Sin Cos was better by 26.63%\n",
      "---------------------------------------------\n",
      "13\n",
      "For sine only: Mean = 0.0004985779109119903 - Min = 0.00013875645527150482 - Max = 0.0012099731247872114\n",
      "For sine & cosine: Mean = 0.00043700881823315285 - Min = 0.0001556896895635873 - Max = 0.001270592794753611\n",
      "Sin Cos was better by 12.35%\n",
      "---------------------------------------------\n",
      "For sine only: Mean = 0.0006085794749087655 - Min = 0.00022424609051086009 - Max = 0.0013407266233116388\n",
      "For sine & cosine: Mean = 0.0006007957104884554 - Min = 0.00020171575306449085 - Max = 0.0014203101163730025\n",
      "Sin Cos was better by 1.28%\n",
      "---------------------------------------------\n",
      "14\n",
      "For sine only: Mean = 0.0006014532731496729 - Min = 0.00017899363592732698 - Max = 0.0016880256589502096\n",
      "For sine & cosine: Mean = 0.0005542290810262784 - Min = 0.00016361926100216806 - Max = 0.0013844138011336327\n",
      "Sin Cos was better by 7.85%\n",
      "---------------------------------------------\n",
      "For sine only: Mean = 0.0006045379572897218 - Min = 0.00019465330115053803 - Max = 0.0015128207160159945\n",
      "For sine & cosine: Mean = 0.000612130097579211 - Min = 0.0002315022429684177 - Max = 0.001871564076282084\n",
      "Sine was better by 1.24%\n",
      "---------------------------------------------\n",
      "15\n",
      "For sine only: Mean = 0.000634630485845264 - Min = 0.00021886109607294202 - Max = 0.0014947045128792524\n",
      "For sine & cosine: Mean = 0.0004570317140314728 - Min = 0.00015055645781103522 - Max = 0.0011621396988630295\n",
      "Sin Cos was better by 27.98%\n",
      "---------------------------------------------\n",
      "For sine only: Mean = 0.0005079172420955728 - Min = 0.00016994820907711983 - Max = 0.0014632933307439089\n",
      "For sine & cosine: Mean = 0.00036436228730599396 - Min = 9.423878509551287e-05 - Max = 0.0018900084542110562\n",
      "Sin Cos was better by 28.26%\n",
      "---------------------------------------------\n",
      "16\n",
      "For sine only: Mean = 0.0005991570590413175 - Min = 0.00019623425032477826 - Max = 0.0012649621348828077\n",
      "For sine & cosine: Mean = 0.0004991837746347301 - Min = 0.00018856524548027664 - Max = 0.0012650967109948397\n",
      "Sin Cos was better by 16.689999999999998%\n",
      "---------------------------------------------\n",
      "For sine only: Mean = 0.0006258553749357816 - Min = 0.0002134093811037019 - Max = 0.0014987202594056726\n",
      "For sine & cosine: Mean = 0.016886485055088996 - Min = 0.012999159283936024 - Max = 0.024082493036985397\n",
      "Sine was better by 96.28999999999999%\n",
      "---------------------------------------------\n",
      "17\n",
      "For sine only: Mean = 0.0006116590784513391 - Min = 0.00024537823628634214 - Max = 0.0013386292848736048\n",
      "For sine & cosine: Mean = 0.0004818591699877288 - Min = 0.0001945445837918669 - Max = 0.0010378311853855848\n",
      "Sin Cos was better by 21.22%\n",
      "---------------------------------------------\n",
      "For sine only: Mean = 0.0006249540022108704 - Min = 0.00023646294721402228 - Max = 0.0016346158226951957\n",
      "For sine & cosine: Mean = 0.0004569206427258905 - Min = 0.00016174554184544832 - Max = 0.0011390050640329719\n",
      "Sin Cos was better by 26.889999999999997%\n",
      "---------------------------------------------\n",
      "18\n",
      "For sine only: Mean = 0.0006395171037875116 - Min = 0.00022844829072710127 - Max = 0.0013339051511138678\n",
      "For sine & cosine: Mean = 0.000626128559873905 - Min = 0.00021186177036724985 - Max = 0.002106820698827505\n",
      "Sin Cos was better by 2.09%\n",
      "---------------------------------------------\n",
      "For sine only: Mean = 0.0031755912085063755 - Min = 0.001397188170813024 - Max = 0.00562474736943841\n",
      "For sine & cosine: Mean = 0.010441785629140212 - Min = 0.0014354425948113203 - Max = 0.01909712515771389\n",
      "Sine was better by 69.59%\n",
      "---------------------------------------------\n",
      "19\n",
      "For sine only: Mean = 0.0006002798112167511 - Min = 0.00020952611521352082 - Max = 0.0013998111244291067\n",
      "For sine & cosine: Mean = 0.015423522206023336 - Min = 0.011720964685082436 - Max = 0.021090174093842506\n",
      "Sine was better by 96.11%\n",
      "---------------------------------------------\n",
      "For sine only: Mean = 0.0005987146401894279 - Min = 0.00022278666438069195 - Max = 0.0018419097177684307\n",
      "For sine & cosine: Mean = 0.01684399194456637 - Min = 0.01279100589454174 - Max = 0.02149507775902748\n",
      "Sine was better by 96.45%\n",
      "---------------------------------------------\n",
      "0.575\n"
     ]
    }
   ],
   "source": [
    "experiments_sin = np.loadtxt('PlotsMay4/SinLosses.txt', delimiter=',')\n",
    "experiments_sincos = np.loadtxt('PlotsMay4/SinCosLosses.txt', delimiter=',')\n",
    "experiments2_sin = np.loadtxt('PlotsMay4/Exp2SinLosses.txt', delimiter=',')\n",
    "experiments2_sincos = np.loadtxt('PlotsMay4/Exp2SinCosLosses.txt', delimiter=',')\n",
    "sincos_winners = 0\n",
    "sin_means = []\n",
    "sincos_means = []\n",
    "sin_mins = []\n",
    "sincos_mins = []\n",
    "sincos_means_win = []\n",
    "sin_means_win = []\n",
    "for i in range(20):\n",
    "    print(i)\n",
    "    sin_mean = np.mean(experiments_sin[i,:])\n",
    "    sin_means.append(sin_mean)\n",
    "    sin_min = np.min(experiments_sin[i,:])\n",
    "    sin_mins.append(sin_min)\n",
    "    sin_max = np.max(experiments_sin[i,:])\n",
    "    print('For sine only: Mean = {} - Min = {} - Max = {}'.format(\n",
    "        sin_mean, sin_min, sin_max))\n",
    "    sincos_mean = np.mean(experiments_sincos[i,:])\n",
    "    sincos_means.append(sincos_mean)\n",
    "    sincos_min = np.min(experiments_sincos[i,:])\n",
    "    sincos_mins.append(sincos_min)\n",
    "    sincos_max = np.max(experiments_sincos[i,:])\n",
    "    print('For sine & cosine: Mean = {} - Min = {} - Max = {}'.format(\n",
    "        sincos_mean, sincos_min, sincos_max))\n",
    "    if sincos_mean < sin_mean:\n",
    "        perc = 100*np.round((sin_mean - sincos_mean)/sin_mean, 4)\n",
    "        sincos_means_win.append(sincos_mean)\n",
    "        sin_means_win.append(sin_mean)\n",
    "        print('Sin Cos was better by {}%'.format(perc))\n",
    "        sincos_winners += 1\n",
    "    else:\n",
    "        perc = 100*np.round((sincos_mean - sin_mean)/sincos_mean, 4)\n",
    "        print('Sine was better by {}%'.format(perc))\n",
    "    print('---------------------------------------------')\n",
    "    sin_mean = np.mean(experiments2_sin[i,:])\n",
    "    sin_means.append(sin_mean)\n",
    "    sin_min = np.min(experiments2_sin[i,:])\n",
    "    sin_mins.append(sin_min)\n",
    "    sin_max = np.max(experiments2_sin[i,:])\n",
    "    print('For sine only: Mean = {} - Min = {} - Max = {}'.format(\n",
    "        sin_mean, sin_min, sin_max))\n",
    "    sincos_mean = np.mean(experiments2_sincos[i,:])\n",
    "    sincos_means.append(sincos_mean)\n",
    "    sincos_min = np.min(experiments2_sincos[i,:])\n",
    "    sincos_mins.append(sincos_min)\n",
    "    sincos_max = np.max(experiments2_sincos[i,:])\n",
    "    print('For sine & cosine: Mean = {} - Min = {} - Max = {}'.format(\n",
    "        sincos_mean, sincos_min, sincos_max))\n",
    "    if sincos_mean < sin_mean:\n",
    "        perc = 100*np.round((sin_mean - sincos_mean)/sin_mean, 4)\n",
    "        print('Sin Cos was better by {}%'.format(perc))\n",
    "        sincos_means_win.append(sincos_mean)\n",
    "        sin_means_win.append(sin_mean)\n",
    "        sincos_winners += 1\n",
    "    else:\n",
    "        perc = 100*np.round((sincos_mean - sin_mean)/sincos_mean, 4)\n",
    "        print('Sine was better by {}%'.format(perc))\n",
    "    print('---------------------------------------------')\n",
    "\n",
    "print(sincos_winners/40)"
   ]
  },
  {
   "cell_type": "code",
   "execution_count": 13,
   "metadata": {},
   "outputs": [
    {
     "data": {
      "text/plain": [
       "Text(0.5, 1.0, 'Histogram of the means of the losses for both networks')"
      ]
     },
     "execution_count": 13,
     "metadata": {},
     "output_type": "execute_result"
    },
    {
     "data": {
      "image/png": "[encoded data removed]",
      "text/plain": [
       "<Figure size 1080x720 with 1 Axes>"
      ]
     },
     "metadata": {
      "needs_background": "light"
     },
     "output_type": "display_data"
    }
   ],
   "source": [
    "plt.figure(figsize = (15,10))\n",
    "plt.plot(sin_means, alpha = 0.7, label = 'Sin')\n",
    "plt.plot(sincos_means, alpha = 0.7, label = 'Sin Cos')\n",
    "plt.legend(fontsize = 20)\n",
    "plt.title('Histogram of the means of the losses for both networks',fontsize = 20)"
   ]
  },
  {
   "cell_type": "code",
   "execution_count": 10,
   "metadata": {},
   "outputs": [
    {
     "data": {
      "text/plain": [
       "Text(0.5, 1.0, 'Mean error distribution for both networks')"
      ]
     },
     "execution_count": 10,
     "metadata": {},
     "output_type": "execute_result"
    },
    {
     "data": {
      "image/png": "[encoded data removed]",
      "text/plain": [
       "<Figure size 864x576 with 1 Axes>"
      ]
     },
     "metadata": {
      "needs_background": "light"
     },
     "output_type": "display_data"
    }
   ],
   "source": [
    "plt.figure(figsize = (12,8))\n",
    "plt.violinplot([sin_means, sincos_means])\n",
    "plt.xticks(range(1,3),['Sine network', 'SinCos network'], fontsize = 20)\n",
    "plt.ylabel('Mean error over last 500 epochs', fontsize = 20)\n",
    "plt.title('Mean error distribution for both networks', fontsize = 20)"
   ]
  },
  {
   "cell_type": "code",
   "execution_count": 14,
   "metadata": {},
   "outputs": [
    {
     "name": "stdout",
     "output_type": "stream",
     "text": [
      "Sine:\n",
      "Mean: 0.0019246352823072813\n",
      "Std: 0.005492399735531839\n",
      "Wins : 42.50000000000001%\n",
      "-----------\n",
      "Sincos:\n",
      "Mean: 0.004698708026726309\n",
      "Std: 0.006848100379787273\n",
      "Wins : 57.49999999999999%\n"
     ]
    }
   ],
   "source": [
    "print('Sine:')\n",
    "print('Mean: {}'.format(np.mean(sin_means)))\n",
    "print('Std: {}'.format(np.std(sin_means)))\n",
    "print('Wins : {}%'.format((1 - sincos_winners/40)*100))\n",
    "print('-----------')\n",
    "print('Sincos:')\n",
    "print('Mean: {}'.format(np.mean(sincos_means)))\n",
    "print('Std: {}'.format(np.std(sincos_means)))\n",
    "print('Wins : {}%'.format(sincos_winners/40*100))"
   ]
  },
  {
   "cell_type": "code",
   "execution_count": 19,
   "metadata": {},
   "outputs": [
    {
     "name": "stdout",
     "output_type": "stream",
     "text": [
      "Sine:\n",
      "Mean: 0.0012621195528481621\n",
      "Std: 0.004455364622912848\n",
      "Wins : 42.50000000000001%\n",
      "-----------\n",
      "Sincos:\n",
      "Mean: 0.003296316462547111\n",
      "Std: 0.005338621822398917\n",
      "Wins : 57.49999999999999%\n"
     ]
    }
   ],
   "source": [
    "print('Sine:')\n",
    "print('Mean: {}'.format(np.mean(sin_mins)))\n",
    "print('Std: {}'.format(np.std(sin_mins)))\n",
    "print('Wins : {}%'.format((1 - sincos_winners/40)*100))\n",
    "print('-----------')\n",
    "print('Sincos:')\n",
    "print('Mean: {}'.format(np.mean(sincos_mins)))\n",
    "print('Std: {}'.format(np.std(sincos_mins)))\n",
    "print('Wins : {}%'.format(sincos_winners/40*100))"
   ]
  },
  {
   "cell_type": "code",
   "execution_count": 22,
   "metadata": {},
   "outputs": [
    {
     "name": "stdout",
     "output_type": "stream",
     "text": [
      "Sine:\n",
      "Mean: 0.0027897212363086113\n",
      "Std: 0.007101432221244405\n",
      "Wins : 42.50000000000001%\n",
      "-----------\n",
      "Sincos:\n",
      "Mean: 0.000470041966923062\n",
      "Std: 6.672680223043651e-05\n",
      "Wins : 57.49999999999999%\n"
     ]
    }
   ],
   "source": [
    "print('Sine:')\n",
    "print('Mean: {}'.format(np.mean(sin_means_win)))\n",
    "print('Std: {}'.format(np.std(sin_means_win)))\n",
    "print('Wins : {}%'.format((1 - sincos_winners/40)*100))\n",
    "print('-----------')\n",
    "print('Sincos:')\n",
    "print('Mean: {}'.format(np.mean(sincos_means_win)))\n",
    "print('Std: {}'.format(np.std(sincos_means_win)))\n",
    "print('Wins : {}%'.format(sincos_winners/40*100))"
   ]
  },
  {
   "cell_type": "code",
   "execution_count": 16,
   "metadata": {},
   "outputs": [
    {
     "data": {
      "text/plain": [
       "[<matplotlib.lines.Line2D at 0x16a7da93108>]"
      ]
     },
     "execution_count": 16,
     "metadata": {},
     "output_type": "execute_result"
    },
    {
     "data": {
      "image/png": "[encoded data removed]",
      "text/plain": [
       "<Figure size 432x288 with 1 Axes>"
      ]
     },
     "metadata": {
      "needs_background": "light"
     },
     "output_type": "display_data"
    }
   ],
   "source": [
    "plt.plot(sin_means)\n",
    "plt.plot(sincos_means)"
   ]
  },
  {
   "cell_type": "code",
   "execution_count": 23,
   "metadata": {},
   "outputs": [
    {
     "name": "stdout",
     "output_type": "stream",
     "text": [
      "0\n",
      "Sin Cos was better by 32.629999999999995%\n",
      "---------------------------------------------\n",
      "Sine was better by 96.57%\n",
      "---------------------------------------------\n",
      "1\n",
      "Sin Cos was better by 14.979999999999999%\n",
      "---------------------------------------------\n",
      "Sine was better by 8.16%\n",
      "---------------------------------------------\n",
      "2\n",
      "Sine was better by 36.0%\n",
      "---------------------------------------------\n",
      "Sin Cos was better by 26.6%\n",
      "---------------------------------------------\n",
      "3\n",
      "Sin Cos was better by 10.08%\n",
      "---------------------------------------------\n",
      "Sin Cos was better by 23.57%\n",
      "---------------------------------------------\n",
      "4\n",
      "Sine was better by 95.93%\n",
      "---------------------------------------------\n",
      "Sin Cos was better by 37.519999999999996%\n",
      "---------------------------------------------\n",
      "5\n",
      "Sin Cos was better by 98.2%\n",
      "---------------------------------------------\n",
      "Sin Cos was better by 21.22%\n",
      "---------------------------------------------\n",
      "6\n",
      "Sine was better by 96.16%\n",
      "---------------------------------------------\n",
      "Sine was better by 95.97%\n",
      "---------------------------------------------\n",
      "7\n",
      "Sin Cos was better by 12.16%\n",
      "---------------------------------------------\n",
      "Sin Cos was better by 18.12%\n",
      "---------------------------------------------\n",
      "8\n",
      "Sine was better by 3.9800000000000004%\n",
      "---------------------------------------------\n",
      "Sin Cos was better by 29.48%\n",
      "---------------------------------------------\n",
      "9\n",
      "Sine was better by 96.94%\n",
      "---------------------------------------------\n",
      "Sine was better by 15.58%\n",
      "---------------------------------------------\n",
      "10\n",
      "Sin Cos was better by 98.53%\n",
      "---------------------------------------------\n",
      "Sine was better by 96.25%\n",
      "---------------------------------------------\n",
      "11\n",
      "Sine was better by 17.919999999999998%\n",
      "---------------------------------------------\n",
      "Sine was better by 96.22%\n",
      "---------------------------------------------\n",
      "12\n",
      "Sin Cos was better by 34.160000000000004%\n",
      "---------------------------------------------\n",
      "Sin Cos was better by 26.63%\n",
      "---------------------------------------------\n",
      "13\n",
      "Sin Cos was better by 12.35%\n",
      "---------------------------------------------\n",
      "Sin Cos was better by 1.28%\n",
      "---------------------------------------------\n",
      "14\n",
      "Sin Cos was better by 7.85%\n",
      "---------------------------------------------\n",
      "Sine was better by 1.24%\n",
      "---------------------------------------------\n",
      "15\n",
      "Sin Cos was better by 27.98%\n",
      "---------------------------------------------\n",
      "Sin Cos was better by 28.26%\n",
      "---------------------------------------------\n",
      "16\n",
      "Sin Cos was better by 16.689999999999998%\n",
      "---------------------------------------------\n",
      "Sine was better by 96.28999999999999%\n",
      "---------------------------------------------\n",
      "17\n",
      "Sin Cos was better by 21.22%\n",
      "---------------------------------------------\n",
      "Sin Cos was better by 26.889999999999997%\n",
      "---------------------------------------------\n",
      "18\n",
      "Sin Cos was better by 2.09%\n",
      "---------------------------------------------\n",
      "Sine was better by 69.59%\n",
      "---------------------------------------------\n",
      "19\n",
      "Sine was better by 96.11%\n",
      "---------------------------------------------\n",
      "Sine was better by 96.45%\n",
      "---------------------------------------------\n",
      "0.575\n"
     ]
    }
   ],
   "source": [
    "experiments_sin = np.loadtxt('PlotsMay4/SinLosses.txt', delimiter=',')\n",
    "experiments_sincos = np.loadtxt('PlotsMay4/SinCosLosses.txt', delimiter=',')\n",
    "experiments2_sin = np.loadtxt('PlotsMay4/Exp2SinLosses.txt', delimiter=',')\n",
    "experiments2_sincos = np.loadtxt('PlotsMay4/Exp2SinCosLosses.txt', delimiter=',')\n",
    "sincos_winners = 0\n",
    "sin_win_perc = []\n",
    "sin_win_means = []\n",
    "sin_win_std = []\n",
    "sincos_win_perc = []\n",
    "sincos_win_means = []\n",
    "sincos_win_std = []\n",
    "\n",
    "for i in range(20):\n",
    "    print(i)\n",
    "    sin_mean = np.mean(experiments_sin[i,:])\n",
    "    sin_means.append(sin_mean)\n",
    "    sincos_mean = np.mean(experiments_sincos[i,:])\n",
    "    if sincos_mean < sin_mean:\n",
    "        perc = 100*np.round((sin_mean - sincos_mean)/sin_mean, 4)\n",
    "        sincos_win_means.append(sincos_mean)\n",
    "        sincos_win_perc.append(perc)\n",
    "        print('Sin Cos was better by {}%'.format(perc))\n",
    "        sincos_winners += 1\n",
    "    else:\n",
    "        perc = 100*np.round((sincos_mean - sin_mean)/sincos_mean, 4)\n",
    "        sin_win_means.append(sincos_mean)\n",
    "        sin_win_perc.append(perc)\n",
    "        print('Sine was better by {}%'.format(perc))\n",
    "    print('---------------------------------------------')\n",
    "    sin_mean = np.mean(experiments2_sin[i,:])\n",
    "    sin_means.append(sin_mean)\n",
    "    sincos_mean = np.mean(experiments2_sincos[i,:])\n",
    "    if sincos_mean < sin_mean:\n",
    "        perc = 100*np.round((sin_mean - sincos_mean)/sin_mean, 4)\n",
    "        sincos_win_means.append(sincos_mean)\n",
    "        sincos_win_perc.append(perc)\n",
    "        print('Sin Cos was better by {}%'.format(perc))\n",
    "        sincos_winners += 1\n",
    "    else:\n",
    "        perc = 100*np.round((sincos_mean - sin_mean)/sincos_mean, 4)\n",
    "        sin_win_means.append(sincos_mean)\n",
    "        sin_win_perc.append(perc)\n",
    "        print('Sine was better by {}%'.format(perc))\n",
    "    print('---------------------------------------------')\n",
    "\n",
    "print(sincos_winners/40)"
   ]
  },
  {
   "cell_type": "code",
   "execution_count": 30,
   "metadata": {},
   "outputs": [
    {
     "data": {
      "text/plain": [
       "0.00013875645527150482"
      ]
     },
     "execution_count": 30,
     "metadata": {},
     "output_type": "execute_result"
    }
   ],
   "source": [
    "np.min(sin_mins)"
   ]
  },
  {
   "cell_type": "code",
   "execution_count": 26,
   "metadata": {},
   "outputs": [
    {
     "data": {
      "text/plain": [
       "27.325652173913046"
      ]
     },
     "execution_count": 26,
     "metadata": {},
     "output_type": "execute_result"
    }
   ],
   "source": [
    "np.mean(sincos_win_perc)"
   ]
  },
  {
   "cell_type": "code",
   "execution_count": 39,
   "metadata": {},
   "outputs": [
    {
     "data": {
      "text/plain": [
       "0.00013875645527150482"
      ]
     },
     "execution_count": 39,
     "metadata": {},
     "output_type": "execute_result"
    }
   ],
   "source": [
    "np.min(experiments_sin)"
   ]
  },
  {
   "cell_type": "code",
   "execution_count": 38,
   "metadata": {},
   "outputs": [
    {
     "data": {
      "text/plain": [
       "0.00562474736943841"
      ]
     },
     "execution_count": 38,
     "metadata": {},
     "output_type": "execute_result"
    }
   ],
   "source": [
    "np.max(experiments2_sin)"
   ]
  },
  {
   "cell_type": "code",
   "execution_count": null,
   "metadata": {},
   "outputs": [],
   "source": []
  }
 ],
 "metadata": {
  "kernelspec": {
   "display_name": "Python 3",
   "language": "python",
   "name": "python3"
  },
  "language_info": {
   "codemirror_mode": {
    "name": "ipython",
    "version": 3
   },
   "file_extension": ".py",
   "mimetype": "text/x-python",
   "name": "python",
   "nbconvert_exporter": "python",
   "pygments_lexer": "ipython3",
   "version": "3.7.6"
  }
 },
 "nbformat": 4,
 "nbformat_minor": 4
}
